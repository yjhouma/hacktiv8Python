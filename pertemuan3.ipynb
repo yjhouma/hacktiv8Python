{
 "cells": [
  {
   "attachments": {},
   "cell_type": "markdown",
   "metadata": {},
   "source": [
    "# Function, Module, and Package\n",
    "\n"
   ]
  },
  {
   "attachments": {},
   "cell_type": "markdown",
   "metadata": {},
   "source": [
    "f(x)\n",
    "g(x)\n",
    "\n",
    "f(x) = x^2 + 2x + 3 "
   ]
  },
  {
   "cell_type": "code",
   "execution_count": 1,
   "metadata": {},
   "outputs": [],
   "source": [
    "def f(x):\n",
    "    value = x**2 + (2*x) + 3\n",
    "    return value"
   ]
  },
  {
   "cell_type": "code",
   "execution_count": 6,
   "metadata": {},
   "outputs": [],
   "source": [
    "var1 = f(1)\n",
    "var2 = f(3)"
   ]
  },
  {
   "cell_type": "code",
   "execution_count": 7,
   "metadata": {},
   "outputs": [],
   "source": [
    "def factorials(n):\n",
    "    value = 1\n",
    "    while n > 1:\n",
    "        value *= n\n",
    "        n -= 1\n",
    "    return value"
   ]
  },
  {
   "cell_type": "code",
   "execution_count": 10,
   "metadata": {},
   "outputs": [
    {
     "data": {
      "text/plain": [
       "120"
      ]
     },
     "execution_count": 10,
     "metadata": {},
     "output_type": "execute_result"
    }
   ],
   "source": [
    "factorials(5)"
   ]
  },
  {
   "cell_type": "code",
   "execution_count": 11,
   "metadata": {},
   "outputs": [],
   "source": [
    "def penjumlahan(bilangan1, bilangan2,bilangan3,):\n",
    "    return bilangan1 + bilangan2"
   ]
  },
  {
   "cell_type": "code",
   "execution_count": 13,
   "metadata": {},
   "outputs": [
    {
     "data": {
      "text/plain": [
       "14"
      ]
     },
     "execution_count": 13,
     "metadata": {},
     "output_type": "execute_result"
    }
   ],
   "source": [
    "var1 = 5\n",
    "var2 = 9\n",
    "penjumlahan(var1, var2)"
   ]
  },
  {
   "cell_type": "code",
   "execution_count": 14,
   "metadata": {},
   "outputs": [],
   "source": [
    "def penjumlahaninputlist(list_input):\n",
    "    total = 0\n",
    "    for i in list_input:\n",
    "        total += i\n",
    "    return total"
   ]
  },
  {
   "cell_type": "code",
   "execution_count": 15,
   "metadata": {},
   "outputs": [
    {
     "data": {
      "text/plain": [
       "110"
      ]
     },
     "execution_count": 15,
     "metadata": {},
     "output_type": "execute_result"
    }
   ],
   "source": [
    "penjumlahaninputlist([10,10,20,30,40])"
   ]
  },
  {
   "cell_type": "code",
   "execution_count": 18,
   "metadata": {},
   "outputs": [],
   "source": [
    "def penjumlahan(*val_arg):\n",
    "    total = 0\n",
    "    for i in val_arg:\n",
    "        total += i \n",
    "    return total"
   ]
  },
  {
   "cell_type": "code",
   "execution_count": 19,
   "metadata": {},
   "outputs": [
    {
     "data": {
      "text/plain": [
       "16"
      ]
     },
     "execution_count": 19,
     "metadata": {},
     "output_type": "execute_result"
    }
   ],
   "source": [
    "penjumlahan(1,2,3,4,6)"
   ]
  },
  {
   "cell_type": "code",
   "execution_count": 20,
   "metadata": {},
   "outputs": [],
   "source": [
    "# def f(x):\n",
    "#     value = x**2 + (2*x) + 3\n",
    "#     return value\n",
    "\n",
    "g = lambda x: x**2 + 2*x + 3"
   ]
  },
  {
   "cell_type": "code",
   "execution_count": 23,
   "metadata": {},
   "outputs": [],
   "source": [
    "pengalian = lambda x, y: x*y"
   ]
  },
  {
   "cell_type": "code",
   "execution_count": 25,
   "metadata": {},
   "outputs": [
    {
     "data": {
      "text/plain": [
       "14"
      ]
     },
     "execution_count": 25,
     "metadata": {},
     "output_type": "execute_result"
    }
   ],
   "source": [
    "pengalian(2,7)"
   ]
  },
  {
   "attachments": {},
   "cell_type": "markdown",
   "metadata": {},
   "source": [
    "4! = 4 * 3 * 2 * 1! "
   ]
  },
  {
   "cell_type": "code",
   "execution_count": 26,
   "metadata": {},
   "outputs": [],
   "source": [
    "def factorials(n):\n",
    "    if (n == 1) or (n == 0):\n",
    "        return 1\n",
    "    else:\n",
    "        return n * factorials(n-1)\n",
    "    "
   ]
  },
  {
   "cell_type": "code",
   "execution_count": 27,
   "metadata": {},
   "outputs": [
    {
     "data": {
      "text/plain": [
       "120"
      ]
     },
     "execution_count": 27,
     "metadata": {},
     "output_type": "execute_result"
    }
   ],
   "source": [
    "factorials(5)"
   ]
  },
  {
   "cell_type": "code",
   "execution_count": 29,
   "metadata": {},
   "outputs": [
    {
     "name": "stdout",
     "output_type": "stream",
     "text": [
      "Ini masuk prosedur\n",
      "ini adalah input pertama\n",
      "ini adalah input kedua\n"
     ]
    }
   ],
   "source": [
    "def prosedur(input1, input2):\n",
    "    print(\"Ini masuk prosedur\")\n",
    "    print(input1)\n",
    "    print(input2)\n",
    "\n",
    "prosedur(\"ini adalah input pertama\", \"ini adalah input kedua\")\n"
   ]
  },
  {
   "cell_type": "code",
   "execution_count": 31,
   "metadata": {},
   "outputs": [
    {
     "name": "stdout",
     "output_type": "stream",
     "text": [
      "Values list di dalam procedure:  [10, 20, 30, 40, [1, 23, 4, 5]]\n",
      "Values list di luar procedure:  [10, 20, 30, 40, [1, 23, 4, 5]]\n"
     ]
    }
   ],
   "source": [
    "def prodc (list_input):\n",
    "    list_input.append([1,23,4,5])\n",
    "    print(\"Values list di dalam procedure: \", list_input)\n",
    "\n",
    "list1 = [10,20,30,40]\n",
    "prodc(list1)\n",
    "print(\"Values list di luar procedure: \", list1)\n"
   ]
  },
  {
   "cell_type": "code",
   "execution_count": 32,
   "metadata": {},
   "outputs": [
    {
     "name": "stdout",
     "output_type": "stream",
     "text": [
      "Values list di dalam procedure:  [1, 23, 4, 5]\n",
      "Values list di luar procedure:  [10, 20, 30, 40]\n"
     ]
    }
   ],
   "source": [
    "def prodc (list_input):\n",
    "    list_input = [1,23,4,5]\n",
    "    print(\"Values list di dalam procedure: \", list_input)\n",
    "\n",
    "list1 = [10,20,30,40]\n",
    "prodc(list1)\n",
    "print(\"Values list di luar procedure: \", list1)\n"
   ]
  },
  {
   "cell_type": "code",
   "execution_count": 33,
   "metadata": {},
   "outputs": [
    {
     "name": "stdout",
     "output_type": "stream",
     "text": [
      "Bilangan di dalam prosedur:  6\n",
      "Bilangan di luar prosedur:  5\n"
     ]
    }
   ],
   "source": [
    "def tambah_satu (x):\n",
    "    x = x + 1\n",
    "    print(\"Bilangan di dalam prosedur: \", x)\n",
    "\n",
    "\n",
    "bil1 = 5\n",
    "tambah_satu(bil1)\n",
    "print(\"Bilangan di luar prosedur: \", bil1)\n"
   ]
  },
  {
   "cell_type": "code",
   "execution_count": 41,
   "metadata": {},
   "outputs": [],
   "source": [
    "def prosedur_no_input(s):\n",
    "    print(\"ABC\")\n",
    "    print(\"DEF\")\n",
    "    print(s)\n",
    "    # return 0"
   ]
  },
  {
   "cell_type": "code",
   "execution_count": 43,
   "metadata": {},
   "outputs": [
    {
     "name": "stdout",
     "output_type": "stream",
     "text": [
      "ABC\n",
      "DEF\n",
      "INI STRING\n"
     ]
    }
   ],
   "source": [
    "prosedur_no_input(s = \"INI STRING\")"
   ]
  },
  {
   "cell_type": "code",
   "execution_count": 44,
   "metadata": {},
   "outputs": [],
   "source": [
    "def pembagian(x,y):\n",
    "    return x/y"
   ]
  },
  {
   "cell_type": "code",
   "execution_count": 49,
   "metadata": {},
   "outputs": [
    {
     "data": {
      "text/plain": [
       "0.4"
      ]
     },
     "execution_count": 49,
     "metadata": {},
     "output_type": "execute_result"
    }
   ],
   "source": [
    "pembagian(y=5, x=2)"
   ]
  },
  {
   "cell_type": "code",
   "execution_count": 52,
   "metadata": {},
   "outputs": [
    {
     "name": "stdout",
     "output_type": "stream",
     "text": [
      "Nama:  Asep\n",
      "Umur:  19\n"
     ]
    }
   ],
   "source": [
    "def printinfo(nama, umur):\n",
    "    print(\"Nama: \", nama)\n",
    "    print(\"Umur: \", umur)\n",
    "\n",
    "printinfo(umur=19, nama=\"Asep\")"
   ]
  },
  {
   "cell_type": "code",
   "execution_count": 54,
   "metadata": {},
   "outputs": [
    {
     "name": "stdout",
     "output_type": "stream",
     "text": [
      "Nama:  Dadang\n",
      "Umur:  29\n"
     ]
    }
   ],
   "source": [
    "def printinfo(nama, umur=27):\n",
    "    print(\"Nama: \", nama)\n",
    "    print(\"Umur: \", umur)\n",
    "\n",
    "printinfo(nama=\"Dadang\", umur=29)"
   ]
  },
  {
   "cell_type": "code",
   "execution_count": 62,
   "metadata": {},
   "outputs": [
    {
     "name": "stdout",
     "output_type": "stream",
     "text": [
      "Bilangan di dalam prosedur:  6\n",
      "Bilangan di luar prosedur:  6\n"
     ]
    },
    {
     "ename": "NameError",
     "evalue": "name 'bil2' is not defined",
     "output_type": "error",
     "traceback": [
      "\u001b[0;31m---------------------------------------------------------------------------\u001b[0m",
      "\u001b[0;31mNameError\u001b[0m                                 Traceback (most recent call last)",
      "Cell \u001b[0;32mIn[62], line 14\u001b[0m\n\u001b[1;32m     12\u001b[0m tambah_satu()\n\u001b[1;32m     13\u001b[0m \u001b[39mprint\u001b[39m(\u001b[39m\"\u001b[39m\u001b[39mBilangan di luar prosedur: \u001b[39m\u001b[39m\"\u001b[39m, bil1)\n\u001b[0;32m---> 14\u001b[0m \u001b[39mprint\u001b[39m(bil2)\n",
      "\u001b[0;31mNameError\u001b[0m: name 'bil2' is not defined"
     ]
    }
   ],
   "source": [
    "bil1 = 5\n",
    "\n",
    "def tambah_satu ():\n",
    "    global bil1\n",
    "    bil1 += 1\n",
    "    # bil2 = 3\n",
    "    print(\"Bilangan di dalam prosedur: \", bil1)\n",
    "\n",
    "\n",
    "\n",
    "\n",
    "tambah_satu()\n",
    "print(\"Bilangan di luar prosedur: \", bil1)\n",
    "# print(bil2)"
   ]
  },
  {
   "cell_type": "code",
   "execution_count": 67,
   "metadata": {},
   "outputs": [
    {
     "name": "stdout",
     "output_type": "stream",
     "text": [
      "Di dalam prosedur:  9\n",
      "Di luar prosedur:  9\n"
     ]
    }
   ],
   "source": [
    "total = 0\n",
    "def jumlah(bil1, bil2):\n",
    "    global total\n",
    "    total = bil1 + bil2\n",
    "    print(\"Di dalam prosedur: \", total)\n",
    "    # return total\n",
    "\n",
    "jumlah(5,4)\n",
    "print(\"Di luar prosedur: \", total)"
   ]
  },
  {
   "cell_type": "code",
   "execution_count": 70,
   "metadata": {},
   "outputs": [
    {
     "data": {
      "text/plain": [
       "40"
      ]
     },
     "execution_count": 70,
     "metadata": {},
     "output_type": "execute_result"
    }
   ],
   "source": [
    "bilangan1 = 20\n",
    "\n",
    "def jumlahPertama():\n",
    "    bilangan2 = 30\n",
    "    # bilangan1 = 10\n",
    "    return bilangan1 + bilangan2\n",
    "\n",
    "jumlahPertama()"
   ]
  },
  {
   "cell_type": "code",
   "execution_count": 1,
   "metadata": {},
   "outputs": [],
   "source": [
    "import mod"
   ]
  },
  {
   "cell_type": "code",
   "execution_count": 2,
   "metadata": {},
   "outputs": [
    {
     "data": {
      "text/plain": [
       "'Tutorial Python Kampus Merdeka'"
      ]
     },
     "execution_count": 2,
     "metadata": {},
     "output_type": "execute_result"
    }
   ],
   "source": [
    "mod.s"
   ]
  },
  {
   "cell_type": "code",
   "execution_count": 3,
   "metadata": {},
   "outputs": [
    {
     "data": {
      "text/plain": [
       "15"
      ]
     },
     "execution_count": 3,
     "metadata": {},
     "output_type": "execute_result"
    }
   ],
   "source": [
    "mod.fungsi_kostum(3,2,3)"
   ]
  },
  {
   "cell_type": "code",
   "execution_count": 4,
   "metadata": {},
   "outputs": [
    {
     "name": "stdout",
     "output_type": "stream",
     "text": [
      "['/Users/yjhouma/Documents/Hacktiv8/Python_Batch_4', '/Users/yjhouma/opt/anaconda3/envs/hacktiv8/lib/python39.zip', '/Users/yjhouma/opt/anaconda3/envs/hacktiv8/lib/python3.9', '/Users/yjhouma/opt/anaconda3/envs/hacktiv8/lib/python3.9/lib-dynload', '', '/Users/yjhouma/opt/anaconda3/envs/hacktiv8/lib/python3.9/site-packages']\n"
     ]
    }
   ],
   "source": [
    "import sys\n",
    "print(sys.path)"
   ]
  },
  {
   "cell_type": "code",
   "execution_count": 5,
   "metadata": {},
   "outputs": [],
   "source": [
    "sys.path.append('/Users/yjhouma/Documents/EBOOKS/')"
   ]
  },
  {
   "cell_type": "code",
   "execution_count": 6,
   "metadata": {},
   "outputs": [
    {
     "name": "stdout",
     "output_type": "stream",
     "text": [
      "['/Users/yjhouma/Documents/Hacktiv8/Python_Batch_4', '/Users/yjhouma/opt/anaconda3/envs/hacktiv8/lib/python39.zip', '/Users/yjhouma/opt/anaconda3/envs/hacktiv8/lib/python3.9', '/Users/yjhouma/opt/anaconda3/envs/hacktiv8/lib/python3.9/lib-dynload', '', '/Users/yjhouma/opt/anaconda3/envs/hacktiv8/lib/python3.9/site-packages', '/Users/yjhouma/Documents/EBOOKS/']\n"
     ]
    }
   ],
   "source": [
    "print(sys.path)\n"
   ]
  },
  {
   "cell_type": "code",
   "execution_count": 7,
   "metadata": {},
   "outputs": [
    {
     "data": {
      "text/plain": [
       "'/Users/yjhouma/Documents/Hacktiv8/Python_Batch_4/mod.py'"
      ]
     },
     "execution_count": 7,
     "metadata": {},
     "output_type": "execute_result"
    }
   ],
   "source": [
    "mod.__file__"
   ]
  },
  {
   "cell_type": "code",
   "execution_count": 8,
   "metadata": {},
   "outputs": [],
   "source": [
    "import math"
   ]
  },
  {
   "cell_type": "code",
   "execution_count": 9,
   "metadata": {},
   "outputs": [
    {
     "data": {
      "text/plain": [
       "'/Users/yjhouma/opt/anaconda3/envs/hacktiv8/lib/python3.9/lib-dynload/math.cpython-39-darwin.so'"
      ]
     },
     "execution_count": 9,
     "metadata": {},
     "output_type": "execute_result"
    }
   ],
   "source": [
    "math.__file__"
   ]
  },
  {
   "cell_type": "code",
   "execution_count": 10,
   "metadata": {},
   "outputs": [
    {
     "data": {
      "text/plain": [
       "'Tutorial Python Kampus Merdeka'"
      ]
     },
     "execution_count": 10,
     "metadata": {},
     "output_type": "execute_result"
    }
   ],
   "source": [
    "mod.s"
   ]
  },
  {
   "cell_type": "code",
   "execution_count": 11,
   "metadata": {},
   "outputs": [],
   "source": [
    "# from mod import *"
   ]
  },
  {
   "cell_type": "code",
   "execution_count": 1,
   "metadata": {},
   "outputs": [],
   "source": [
    "# from mod import fungsi_kostum as fk"
   ]
  },
  {
   "cell_type": "code",
   "execution_count": 6,
   "metadata": {},
   "outputs": [],
   "source": [
    "import pkg.mod as m"
   ]
  },
  {
   "cell_type": "code",
   "execution_count": 7,
   "metadata": {},
   "outputs": [
    {
     "data": {
      "text/plain": [
       "'Tutorial Python Kampus Merdeka'"
      ]
     },
     "execution_count": 7,
     "metadata": {},
     "output_type": "execute_result"
    }
   ],
   "source": [
    "m.s"
   ]
  },
  {
   "cell_type": "code",
   "execution_count": 8,
   "metadata": {},
   "outputs": [
    {
     "data": {
      "text/plain": [
       "[10, 20, 30, 40]"
      ]
     },
     "execution_count": 8,
     "metadata": {},
     "output_type": "execute_result"
    }
   ],
   "source": [
    "m.mylist"
   ]
  },
  {
   "cell_type": "code",
   "execution_count": 9,
   "metadata": {},
   "outputs": [
    {
     "data": {
      "text/plain": [
       "7"
      ]
     },
     "execution_count": 9,
     "metadata": {},
     "output_type": "execute_result"
    }
   ],
   "source": [
    "m.fungsi_kostum(1,2,3)"
   ]
  },
  {
   "cell_type": "code",
   "execution_count": 10,
   "metadata": {},
   "outputs": [],
   "source": [
    "from pkg import mod"
   ]
  },
  {
   "cell_type": "code",
   "execution_count": 11,
   "metadata": {},
   "outputs": [
    {
     "data": {
      "text/plain": [
       "'Tutorial Python Kampus Merdeka'"
      ]
     },
     "execution_count": 11,
     "metadata": {},
     "output_type": "execute_result"
    }
   ],
   "source": [
    "mod.s"
   ]
  },
  {
   "cell_type": "code",
   "execution_count": 12,
   "metadata": {},
   "outputs": [
    {
     "data": {
      "text/plain": [
       "[10, 20, 30, 40]"
      ]
     },
     "execution_count": 12,
     "metadata": {},
     "output_type": "execute_result"
    }
   ],
   "source": [
    "mod.mylist"
   ]
  },
  {
   "cell_type": "code",
   "execution_count": 13,
   "metadata": {},
   "outputs": [
    {
     "data": {
      "text/plain": [
       "7"
      ]
     },
     "execution_count": 13,
     "metadata": {},
     "output_type": "execute_result"
    }
   ],
   "source": [
    "mod.fungsi_kostum(1,2,3)"
   ]
  },
  {
   "cell_type": "code",
   "execution_count": 14,
   "metadata": {},
   "outputs": [],
   "source": [
    "from pkg import factorials as f"
   ]
  },
  {
   "cell_type": "code",
   "execution_count": 15,
   "metadata": {},
   "outputs": [
    {
     "data": {
      "text/plain": [
       "120"
      ]
     },
     "execution_count": 15,
     "metadata": {},
     "output_type": "execute_result"
    }
   ],
   "source": [
    "f.factorials(5)"
   ]
  }
 ],
 "metadata": {
  "kernelspec": {
   "display_name": "hacktiv8",
   "language": "python",
   "name": "python3"
  },
  "language_info": {
   "codemirror_mode": {
    "name": "ipython",
    "version": 3
   },
   "file_extension": ".py",
   "mimetype": "text/x-python",
   "name": "python",
   "nbconvert_exporter": "python",
   "pygments_lexer": "ipython3",
   "version": "3.9.16"
  },
  "orig_nbformat": 4,
  "vscode": {
   "interpreter": {
    "hash": "f39cb926be16e4660558e3b82e8fd31d5eb0ff2b0fe3d6add6b101a7213a33a5"
   }
  }
 },
 "nbformat": 4,
 "nbformat_minor": 2
}
